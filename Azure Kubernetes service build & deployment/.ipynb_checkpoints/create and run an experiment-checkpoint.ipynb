{
 "cells": [
  {
   "cell_type": "code",
   "execution_count": null,
   "metadata": {},
   "outputs": [],
   "source": [
    "# Create an Azure ML experiment in your workspace\n",
    "experiment = Experiment(workspace=ws, name=\"mslearn-EarlySdiabetes-exp\")\n",
    "run = experiment.start_logging()\n",
    "print(\"Starting experiment:\", experiment.name)\n",
    "\n",
    "# load the diabetes dataset\n",
    "print(\"Loading Data...\")\n",
    "diabetes = pd.read_csv('diabetes_dataset.csv')"
   ]
  },
  {
   "cell_type": "code",
   "execution_count": null,
   "metadata": {},
   "outputs": [],
   "source": [
    "Change column names: replace spaces with underscores\n",
    "diabetes.rename(columns={'sudden weight loss': 'sudden_weight_loss', 'Genital thrush': 'Genital_thrush', \n",
    "                         'visual blurring': 'visual_blurring', 'delayed healing': 'delayed_healing', \n",
    "                         'partial paresis': 'partial_paresis', 'muscle stiffness': 'muscle_stiffness'}, inplace=True)"
   ]
  },
  {
   "cell_type": "code",
   "execution_count": null,
   "metadata": {},
   "outputs": [],
   "source": [
    "# making capitalizing the fisrt letter of each head column \n",
    "diabetes.columns = map(lambda x: str(x).capitalize(), diabetes.columns)\n",
    "\n",
    "#changing data values to integer\n",
    "change = {'Age':'Age', 'Gender':{'Male':1, 'Female':0}, 'Polyuria':{'Yes':1, 'No':0},       \n",
    "        'Polydipsia':{'Yes':1, 'No':0}, 'Sudden_weight_loss':{'Yes':1, 'No':0},\n",
    "          'Weakness':{'Yes':1, 'No':0}, 'Polyphagia':{'Yes':1, 'No':0},\n",
    "         'Genital_thrush':{'Yes':1, 'No':0}, 'Visual_blurring':{'Yes':1, 'No':0},\n",
    "          'Itching':{'Yes':1, 'No':0}, 'Irritability':{'Yes':1, 'No':0}, \n",
    "          'Delayed_healing':{'Yes':1, 'No':0},'Partial_paresis':{'Yes':1, 'No':0}, \n",
    "          'Muscle_stiffness':{'Yes':1, 'No':0}, 'Alopecia':{'Yes':1, 'No':0}, \n",
    "          'Obesity':{'Yes':1, 'No':0}, 'Class':{'Positive':1, 'Negative':0}}\n",
    "\n",
    "\n",
    "for k, v in change.items():\n",
    "    diabetes[k] = diabetes[k].replace(v)\n"
   ]
  },
  {
   "cell_type": "code",
   "execution_count": null,
   "metadata": {},
   "outputs": [],
   "source": [
    "# Split the test and train data\n",
    "X = diabetes.drop(columns='Class')\n",
    "y = diabetes['Class']\n",
    "X_train, X_test, y_train, y_test = train_test_split(X, y, test_size=0.30, random_state=0)"
   ]
  },
  {
   "cell_type": "code",
   "execution_count": null,
   "metadata": {},
   "outputs": [],
   "source": [
    "# Train a decision tree model\n",
    "print('Training a decision tree model')\n",
    "model = DecisionTreeClassifier().fit(X_train, y_train)"
   ]
  },
  {
   "cell_type": "code",
   "execution_count": null,
   "metadata": {},
   "outputs": [],
   "source": [
    "# calculate accuracy\n",
    "y_hat = model.predict(X_test)\n",
    "acc = np.average(y_hat == y_test)\n",
    "print('Accuracy:', acc)\n",
    "run.log('Accuracy', np.float(acc))\n",
    "\n",
    "# calculate AUC\n",
    "y_scores = model.predict_proba(X_test)\n",
    "auc = roc_auc_score(y_test,y_scores[:,1])\n",
    "print('AUC: ' + str(auc))\n",
    "run.log('AUC', np.float(auc))"
   ]
  },
  {
   "cell_type": "code",
   "execution_count": null,
   "metadata": {},
   "outputs": [],
   "source": [
    "# Save the trained model\n",
    "model_file = 'Es_diabetes_model.pkl'\n",
    "joblib.dump(value=model, filename=model_file)\n",
    "run.upload_file(name = 'outputs/' + model_file, path_or_stream = './' + model_file)"
   ]
  },
  {
   "cell_type": "code",
   "execution_count": null,
   "metadata": {},
   "outputs": [],
   "source": [
    "# Complete the run\n",
    "run.complete()"
   ]
  }
 ],
 "metadata": {
  "kernelspec": {
   "display_name": "Python 3",
   "language": "python",
   "name": "python3"
  },
  "language_info": {
   "codemirror_mode": {
    "name": "ipython",
    "version": 3
   },
   "file_extension": ".py",
   "mimetype": "text/x-python",
   "name": "python",
   "nbconvert_exporter": "python",
   "pygments_lexer": "ipython3",
   "version": "3.7.9"
  }
 },
 "nbformat": 4,
 "nbformat_minor": 4
}
