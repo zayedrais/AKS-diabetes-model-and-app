{
 "cells": [
  {
   "cell_type": "code",
   "execution_count": null,
   "metadata": {},
   "outputs": [],
   "source": [
    "# Model deployment\n",
    "\n",
    "from azureml.core.model import Model\n",
    "\n",
    "model = ws.models['Es_diabetes_model']\n",
    "service = Model.deploy(workspace=ws,\n",
    "                       name = 'es-diabetes-service',\n",
    "                       models = [model],\n",
    "                       inference_config = inference_config,\n",
    "                       deployment_config = deploy_config,\n",
    "                       deployment_target = Dev_cluster)\n",
    "service.wait_for_deployment(show_output = True)"
   ]
  }
 ],
 "metadata": {
  "kernelspec": {
   "display_name": "Python 3",
   "language": "python",
   "name": "python3"
  },
  "language_info": {
   "codemirror_mode": {
    "name": "ipython",
    "version": 3
   },
   "file_extension": ".py",
   "mimetype": "text/x-python",
   "name": "python",
   "nbconvert_exporter": "python",
   "pygments_lexer": "ipython3",
   "version": "3.7.9"
  }
 },
 "nbformat": 4,
 "nbformat_minor": 4
}
